{
 "cells": [
  {
   "cell_type": "code",
   "execution_count": 29,
   "id": "7f65f8c4-b3ce-428e-a440-bea7eb2d9354",
   "metadata": {},
   "outputs": [
    {
     "name": "stdout",
     "output_type": "stream",
     "text": [
      "       name  age state  point\n",
      "0     Alice   24    NY     64\n",
      "1       Bob   42    CA     92\n",
      "2   Charlie   18    CA     70\n",
      "3      Dave   68    TX     70\n",
      "4     Ellen   24    CA     88\n",
      "5     Frank   30    NY     57\n",
      "6     Alice   24    NY     64\n",
      "7       Bob   42    CA     92\n",
      "8   Charlie   18    CA     70\n",
      "9      Dave   68    TX     70\n",
      "10    Ellen   24    CA     88\n",
      "11    Frank   30    NY     57\n",
      "       name  age state  point\n",
      "0     Alice   24    NY     64\n",
      "1       Bob   42    CA     92\n",
      "2   Charlie   18    CA     70\n",
      "3      Dave   68    TX     70\n",
      "4     Ellen   24    CA     88\n",
      "..      ...  ...   ...    ...\n",
      "7       Bob   42    CA     92\n",
      "8   Charlie   18    CA     70\n",
      "9      Dave   68    TX     70\n",
      "10    Ellen   24    CA     88\n",
      "11    Frank   30    NY     57\n",
      "\n",
      "[12 rows x 4 columns]\n"
     ]
    }
   ],
   "source": [
    "import pandas as pd\n",
    "\n",
    "# đọc dữ liệu từ file csv\n",
    "df = pd.read_csv('data_information.csv')\n",
    "print(df.to_string())\n",
    "\n",
    "#  hiển thị 5 dòng đầu, hiển thị 5 dòng cuối\n",
    "pd.options.display.max_rows = 10\n",
    "prinddf)))\n",
    "\n",
    "# Bước 3: Hiển thị toàn bộ tên các cột\n",
    "print(\"Tên các cột:\\n\", df.columns)\n",
    "\n",
    "# Bước 4: Hiển thị số dòng và số cột\n",
    "print(\"Số dòng, số cột:\", df.shape)\n"
   ]
  },
  {
   "cell_type": "code",
   "execution_count": 30,
   "id": "baba116e-9ca9-4885-a903-ca60a9fa6bd0",
   "metadata": {},
   "outputs": [
    {
     "name": "stdout",
     "output_type": "stream",
     "text": [
      "5 dòng đầu:\n",
      "       name  age state  point\n",
      "0    Alice   24    NY     64\n",
      "1      Bob   42    CA     92\n",
      "2  Charlie   18    CA     70\n",
      "3     Dave   68    TX     70\n",
      "4    Ellen   24    CA     88\n",
      "5 dòng cuối:\n",
      "        name  age state  point\n",
      "7       Bob   42    CA     92\n",
      "8   Charlie   18    CA     70\n",
      "9      Dave   68    TX     70\n",
      "10    Ellen   24    CA     88\n",
      "11    Frank   30    NY     57\n",
      "Tên các cột:\n",
      " Index(['name', 'age', 'state', 'point'], dtype='object')\n",
      "Số dòng, số cột: (12, 4)\n",
      "Thông tin mô tả:\n",
      "              age      point\n",
      "count  12.000000  12.000000\n",
      "mean   34.333333  73.500000\n",
      "std    17.536110  13.069743\n",
      "min    18.000000  57.000000\n",
      "25%    24.000000  64.000000\n",
      "50%    27.000000  70.000000\n",
      "75%    42.000000  88.000000\n",
      "max    68.000000  92.000000\n",
      "Kiểu dữ liệu từng cột:\n",
      " name     object\n",
      "age       int64\n",
      "state    object\n",
      "point     int64\n",
      "dtype: object\n"
     ]
    }
   ],
   "source": [
    "data = pd.read_csv('data_information.csv')\n",
    "print(\"5 dòng đầu:\\n\", data.head())\n",
    "print(\"5 dòng cuối:\\n\", data.tail())\n",
    "\n",
    "\n",
    "\n",
    "# Bước 5: Hiển thị thông tin mô tả\n",
    "print(\"Thông tin mô tả:\\n\", data.describe())\n",
    "print(\"Kiểu dữ liệu từng cột:\\n\", data.dtypes)"
   ]
  },
  {
   "cell_type": "code",
   "execution_count": null,
   "id": "90713227-3e38-47cc-93dd-c5133be9bb9e",
   "metadata": {},
   "outputs": [],
   "source": []
  }
 ],
 "metadata": {
  "kernelspec": {
   "display_name": "Python 3 (ipykernel)",
   "language": "python",
   "name": "python3"
  },
  "language_info": {
   "codemirror_mode": {
    "name": "ipython",
    "version": 3
   },
   "file_extension": ".py",
   "mimetype": "text/x-python",
   "name": "python",
   "nbconvert_exporter": "python",
   "pygments_lexer": "ipython3",
   "version": "3.11.7"
  }
 },
 "nbformat": 4,
 "nbformat_minor": 5
}
