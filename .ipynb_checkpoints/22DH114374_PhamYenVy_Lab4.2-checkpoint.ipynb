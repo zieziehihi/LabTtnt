{
 "cells": [
  {
   "cell_type": "code",
   "execution_count": 17,
   "id": "9b541177-2c6b-4e36-9075-1cd3eed12661",
   "metadata": {},
   "outputs": [],
   "source": [
    "import numpy as np\n",
    "\n",
    "ver_dic = {\n",
    "    'S' : 0,\n",
    "    'A' : 1,\n",
    "    'B' : 2,\n",
    "    'C' : 3,\n",
    "    'D' : 4,\n",
    "    'E' : 5,\n",
    "    'F' : 6,\n",
    "    'G' : 7,\n",
    "    'H' : 8,\n",
    "    'I' : 9,\n",
    "    'J' : 10,\n",
    "    'K' : 11,\n",
    "    'L' : 12,\n",
    "    'M' : 13\n",
    "}\n",
    "\n",
    "matrix = np.array([\n",
    "    [0, 1, 1, 1, 0, 0, 0, 0, 0, 0, 0, 0, 0, 0],\n",
    "    [1, 0, 0, 0, 1, 1, 0, 0, 0, 0, 0, 0, 0, 0],\n",
    "    [1, 0, 0, 0, 0, 0, 1, 1, 0, 0, 0, 0, 0, 0],\n",
    "    [1, 0, 0, 0, 0, 0, 0, 0, 1, 0, 0, 0, 0, 0],\n",
    "    [0, 1, 0, 0, 0, 0, 0, 0, 0, 0, 0, 0, 0, 0],\n",
    "    [0, 1, 0, 0, 0, 0, 0, 0, 0, 0, 0, 0, 0, 0],\n",
    "    [0, 0, 1, 0, 0, 0, 0, 0, 0, 0, 0, 0, 0, 0],\n",
    "    [0, 0, 1, 0, 0, 0, 0, 0, 0, 0, 0, 0, 0, 0],\n",
    "    [0, 0, 0, 1, 0, 0, 0, 0, 0, 1, 1, 0, 0, 0],\n",
    "    [0, 0, 0, 0, 0, 0, 0, 0, 1, 0, 0, 1, 1, 1],\n",
    "    [0, 0, 0, 0, 0, 0, 0, 0, 1, 0, 0, 0, 0, 0],\n",
    "    [0, 0, 0, 0, 0, 0, 0, 0, 0, 1, 0, 0, 0, 0],\n",
    "    [0, 0, 0, 0, 0, 0, 0, 0, 0, 1, 0, 0, 0, 0],\n",
    "    [0, 0, 0, 0, 0, 0, 0, 0, 0, 1, 0, 0, 0, 0],\n",
    "])"
   ]
  },
  {
   "cell_type": "code",
   "execution_count": 18,
   "id": "6894405f-e5ff-4ba1-8672-65d201ab16c6",
   "metadata": {},
   "outputs": [
    {
     "name": "stdout",
     "output_type": "stream",
     "text": [
      "['A', 'S', 'D', 'E', 'B', 'C', 'F']\n"
     ]
    }
   ],
   "source": [
    "#2\n",
    "#khởi tạo\n",
    "visited = []\n",
    "queue = [] \n",
    "\n",
    "def bfs(visited, graph, start, end):\n",
    "    node_s = ver_dic[start] #đỉnh bắt đầu \n",
    "    node_e = ver_dic[end] #đỉnh kết thúc\n",
    "    queue.append(node_s) #thêm đỉnh vào queue\n",
    "    visited.append(node_s) #thêm đỉnh vào vst\n",
    "    row, col = graph.shape #kích thước của ma trận\n",
    "    for i in queue:\n",
    "        for j in range (col): #duyệt cột của queue\n",
    "            if graph[i,j] == 1 and j not in visited: #nếu graph[i,j] = 1 và j chưa add vào vst\n",
    "                visited.append(j)\n",
    "                queue.append(j)\n",
    "                if (j == node_e): #đến cuối đường -> dừng\n",
    "                    break\n",
    "        if visited[len(visited)-1] == node_e: #phần tử cuối của mảng = node end\n",
    "            break \n",
    "    return queue\n",
    "    \n",
    "kq = bfs(visited,matrix,'A','F')\n",
    "#chuyển đổi chỉ số đỉnh \n",
    "#ver_dic.keys() trả về 1 đối tượng view chứa tất cả các khóa (tên đỉnh) của dic\n",
    "#list(ver_dic.keys()) là danh sách các tên đỉnh\n",
    "#ver_dic.values() trả về một đối tượng view chứa tất cả các giá trị (chỉ số đỉnh) của dic\n",
    "#list(ver_dic.values()) là danh sách các chỉ số đỉnh\n",
    "#list(ver_dic.values()).index(idx) tìm chỉ số của idx trong danh sách các chỉ số đỉnh.\n",
    "kq1 = [list(ver_dic.keys())[list(ver_dic.values()).index(idx)] for idx in kq] \n",
    "print(kq1)"
   ]
  },
  {
   "cell_type": "code",
   "execution_count": 19,
   "id": "074f71d6-0660-4166-bd81-ad94788365ed",
   "metadata": {},
   "outputs": [
    {
     "name": "stdout",
     "output_type": "stream",
     "text": [
      "['S', 'A', 'D', 'E', 'B', 'F', 'G']\n"
     ]
    }
   ],
   "source": [
    "#3\n",
    "visited = []\n",
    "stack = []\n",
    "\n",
    "def DFS(visited,graph,start,end):\n",
    "    node_s = ver_dic[start]\n",
    "    node_e = ver_dic[end]\n",
    "    stack.append(node_s)\n",
    "    h,c = graph.shape\n",
    "    while stack:\n",
    "        x =stack.pop()\n",
    "        if x not in visited:\n",
    "            visited.append(x)\n",
    "        if x== node_e:\n",
    "            break\n",
    "        for j in range(len(graph[x])-1,-1,-1):\n",
    "            if graph[x,j]==1 and j not in visited:\n",
    "                stack.append(j)\n",
    "    return visited\n",
    "\n",
    "kq = DFS(visited,matrix,'S','G')\n",
    "result = [list(ver_dic.keys())[list(ver_dic.values()).index(idx)] for idx in kq]\n",
    "print(result)"
   ]
  },
  {
   "cell_type": "code",
   "execution_count": 28,
   "id": "20d1911a-d447-479e-bb0f-3eb7c1abae9e",
   "metadata": {},
   "outputs": [
    {
     "name": "stdout",
     "output_type": "stream",
     "text": [
      "0 3 6 5 7 None\n"
     ]
    }
   ],
   "source": [
    "#4\n",
    "graph1 = [\n",
    "    #graph[0]\n",
    "    [[1,3], [2,6], [3,5]],\n",
    "    #graph [1]\n",
    "    [[4,9], [5,8]],\n",
    "    #graph[2]\n",
    "    [[6,12], [7,14]],\n",
    "    #graph[3]\n",
    "    [[8,7]],\n",
    "    [],[],[],[],\n",
    "    #graph[8]\n",
    "    [[9,5],[10,6]],\n",
    "    #graph 9\n",
    "    [[11,1],[12,10],[13,2]],\n",
    "    #graph 10\n",
    "    [],[],[],[]\n",
    "]\n",
    "\n",
    "from queue import PriorityQueue \n",
    "\n",
    "def BFS(graph, start, target):\n",
    "    n = len(graph)\n",
    "    visited = [False] * n\n",
    "    open_set = PriorityQueue() #Queue dùng để lưu trữ các đỉnh sẽ viếng\n",
    "    open_set.put((0, start)) #Thêm đỉnh bắt đầu vào queue với trọng số = 0\n",
    "    visited[start] = True #Đánh dấu đỉnh bắt đầu đã viếng\n",
    "\n",
    "    while not open_set.empty(): #Lặp lại cho đến khi queue trống.\n",
    "        _, current_node = open_set.get() #\n",
    "        print(current_node, end=\" \")\n",
    "\n",
    "        if current_node == target:\n",
    "            break\n",
    "\n",
    "        for cost, neighbor in graph[current_node]:\n",
    "            if not visited[neighbor]:\n",
    "                visited[neighbor] = True\n",
    "                open_set.put((cost, neighbor))\n",
    "\n",
    "s = 0\n",
    "t = 9\n",
    "kq3 = BFS(graph1, s, t)\n",
    "print(kq3)"
   ]
  }
 ],
 "metadata": {
  "kernelspec": {
   "display_name": "Python 3 (ipykernel)",
   "language": "python",
   "name": "python3"
  },
  "language_info": {
   "codemirror_mode": {
    "name": "ipython",
    "version": 3
   },
   "file_extension": ".py",
   "mimetype": "text/x-python",
   "name": "python",
   "nbconvert_exporter": "python",
   "pygments_lexer": "ipython3",
   "version": "3.11.7"
  }
 },
 "nbformat": 4,
 "nbformat_minor": 5
}
