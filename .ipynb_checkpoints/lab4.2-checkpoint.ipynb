{
 "cells": [
  {
   "cell_type": "code",
   "execution_count": 65,
   "id": "3c30acc4",
   "metadata": {},
   "outputs": [],
   "source": [
    "#YC1\n",
    "import matplotlib.pyplot as plt\n",
    "import numpy as np\n",
    "\n",
    "# Thiết lập phạm vi của x\n",
    "x = np.linspace(0, 2 * np.pi, 1000)\n",
    "\n",
    "# Tính giá trị của y\n",
    "y = 4 + 2 * np.sin(2 * x)\n",
    "\n",
    "# Áp dụng style\n",
    "plt.style.use('ggplot')\n",
    "\n",
    "# Vẽ đồ thị\n",
    "plt.figure(figsize=(2, 1))\n",
    "plt.plot(x, y, label='y = 4 + 2sin(2x)', color='red')\n",
    "\n",
    "# Thiết lập nhãn và tiêu đề\n",
    "plt.xlabel('x')\n",
    "plt.ylabel('y')\n",
    "plt.title('Đồ thị của y = 4 + 2sin(2x)')\n",
    "plt.legend()\n",
    "\n",
    "# Hiển thị đồ thị\n",
    "plt.grid(True)\n",
    "plt.show()"
   ]
  },
  {
   "cell_type": "code",
   "execution_count": 71,
   "id": "797ddce3",
   "metadata": {},
   "outputs": [],
   "source": [
    "#YC2\n",
    "import csv\n",
    "import pandas as pd\n",
    "\n",
    "# Dữ liệu cần ghi vào file CSV\n",
    "data = [\n",
    "    [\"Date\", \"Open\", \"High\", \"Low\", \"Close\"],\n",
    "    [\"10-03-16\", 774.25, 776.065002, 769.5, 772.559998],\n",
    "    [\"10-04-16\", 776.030029, 778.710022, 772.890015, 776.429993],\n",
    "    [\"10-05-16\", 779.309998, 782.070007, 775.650024, 776.469971],\n",
    "    [\"10-06-16\", 779, 780.47998, 775.539978, 776.859985],\n",
    "    [\"10-07-16\", 779.659973, 779.659973, 770.75, 775.080017]\n",
    "]\n",
    "\n",
    "# Tạo và ghi dữ liệu vào file CSV\n",
    "with open('Finance_data.csv', mode='w', newline='') as file:\n",
    "    writer = csv.writer(file)\n",
    "    writer.writerows(data)\n",
    "\n",
    "print(\"File 'Finance_data.csv' đã được tạo.\")\n",
    "\n",
    "#YC3\n",
    "df = pd.read_csv('Finance_data.csv', sep = ',', parse_dates = True"
   ]
  },
  {
   "cell_type": "code",
   "execution_count": 73,
   "id": "e9cb1492",
   "metadata": {},
   "outputs": [],
   "source": []
  },
  {
   "cell_type": "code",
   "execution_count": 93,
   "id": "e09e38b8",
   "metadata": {},
   "outputs": [],
   "source": []
  }
 ],
 "metadata": {
  "kernelspec": {
   "display_name": "Python 3 (ipykernel)",
   "language": "python",
   "name": "python3"
  },
  "language_info": {
   "codemirror_mode": {
    "name": "ipython",
    "version": 3
   },
   "file_extension": ".py",
   "mimetype": "text/x-python",
   "name": "python",
   "nbconvert_exporter": "python",
   "pygments_lexer": "ipython3",
   "version": "3.11.7"
  }
 },
 "nbformat": 4,
 "nbformat_minor": 5
}
