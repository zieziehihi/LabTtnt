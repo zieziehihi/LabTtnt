{
 "cells": [
  {
   "cell_type": "code",
   "execution_count": null,
   "id": "95815a25-6425-4821-858f-aa4516a65eeb",
   "metadata": {},
   "outputs": [],
   "source": [
    "import pandas as pd"
   ]
  },
  {
   "cell_type": "code",
   "execution_count": null,
   "id": "ddc1fa00-c440-4804-b1b5-21989cc845ef",
   "metadata": {},
   "outputs": [],
   "source": [
    "import matplotlib.pyplot as plt"
   ]
  },
  {
   "cell_type": "code",
   "execution_count": null,
   "id": "bb5c178c-335a-4665-b7de-d4acc716ed9d",
   "metadata": {},
   "outputs": [],
   "source": [
    "import numpy as np"
   ]
  },
  {
   "cell_type": "code",
   "execution_count": null,
   "id": "2067bbaa-29eb-4395-89f6-45c82508f8ae",
   "metadata": {},
   "outputs": [],
   "source": [
    "import seaborn as sns"
   ]
  },
  {
   "cell_type": "code",
   "execution_count": null,
   "id": "487dcfea-48da-4e03-a306-1ccdb327b578",
   "metadata": {},
   "outputs": [],
   "source": [
    "#Bài tập 1\n",
    "class Word_Process:\n",
    "    def ReadFile():"
   ]
  },
  {
   "cell_type": "code",
   "execution_count": null,
   "id": "753777d4-62e5-424d-9f0b-0b59555c2c1c",
   "metadata": {},
   "outputs": [],
   "source": [
    "filename = 'C:\\Users\\DELL\\Downloads\\tkbth.txt'"
   ]
  },
  {
   "cell_type": "code",
   "execution_count": null,
   "id": "c3c1b445-3ef0-4922-afa8-47e740a762bc",
   "metadata": {},
   "outputs": [],
   "source": [
    "# Bài tập 2\n",
    "class Data_Mark:\n",
    "    def ReadFile(df):\n",
    "        df = pd.read_csv('Full_Mark_2020.csv')\n",
    "        h = list(df)\n",
    "        h.remove('STT')\n",
    "        print(h)\n",
    "\n",
    "    def Ve4Cot(df):\n",
    "        df1 = pd.DataFrame(df[['Code', 'Toan']])\n",
    "        df2 = pd.DataFrame(df[['Code', 'Ngoaingu']])\n",
    "        df3 = pd.DataFrame(df[['Code', 'Nguvan']])\n",
    "        df4 = pd.DataFrame(df[['Code', 'KHTN']])\n",
    "        plt.subplot(1,4,1)\n",
    "        plt.plot(df['Toan'])\n",
    "        plt.title('Chart 1')\n",
    "\n",
    "        plt.subplot(1,4,2)\n",
    "        plt.plot(df['Ngoaingu'])\n",
    "        plt.title('Chart 2')\n",
    "\n",
    "        plt.subplot(1,4,3)\n",
    "        plt.plot(df['Nguvan'])\n",
    "        plt.title('Chart 3')\n",
    "\n",
    "        plt.subplot(1,4,4)\n",
    "        plt.plot(df['KHTN'])\n",
    "        plt.title('Chart 4')\n",
    "\n",
    "        plt.show()\n",
    "\n",
    "    def GomCum():\n",
    "        x = df['Toan'].to_numpy()\n",
    "        y = df['Code'].to_numpy()\n",
    "        color = df['city'].to_numpy()\n",
    "        plt.scatter(x,y,c = color)\n",
    "        plt.colorbar()\n",
    "        plt.show()\n",
    "\n",
    "        sns.scatterplot(data = df, x = 'Toan', y = 'Code', hue = 'city')\n",
    "        \n",
    "        from sklearn.model_selection import train_test_split\n",
    "\n",
    "        x_train, x_test, y_train, y_test = train_test_split(df[['Toan', 'Code']], df[['city']], test_size = 0.3, random_state = 0)\n",
    "        print(x_train.shape)\n",
    "        print(x_train.shape)\n",
    "        print(df.shape)\n",
    "\n",
    "        from sklearn import preprocessing\n",
    "\n",
    "        x_train_norm = preprocessing.normalize(x_train)\n",
    "        x_test_norm = preprocessing.normalize(x_test)\n",
    "        print(x_train_norm.shape)\n",
    "        print(x_test_norm.shape)\n",
    "\n",
    "        kmeans = KMeans(n_clusters = 5, random_state = 0, n_init = 'auto')\n",
    "        kmeans.fit(x_train_norm)\n",
    "\n",
    "        plt.scatter(x_train['Toan'].to_numpy(), x_train['Code'].to_numpy(), c = kmeans.labels_)\n",
    "        plt.colorbar()\n",
    "        plt.show()\n",
    "        \n",
    "        sns.scatterplot(data = x_train, x = 'Toan', y = 'Code', hue = kmeans.labels_)\n",
    "        \n",
    "        y_pred = kmeans.predict(x_test_norm)\n",
    "        sns.scatterplot(data = x_test, x = 'Toan', y = 'Code', hue = y_pred)\n",
    "        \n",
    "        y_pred = kmeans.predict(x_test_norm)\n",
    "        sns.scatterplot(data = x_test, x = 'Toan', y = 'Code', hue = y_pred)\n",
    "\n",
    "        plt.scatter(x_test['Toan'].to_numpy(), x_test['Code'].to_numpy(), c = y_pred)\n",
    "        plt.colorbar()\n",
    "        plt.show()\n",
    "        print('Centers found by scikit-learn:')\n",
    "        print(kmeans.clusters_centers_)\n",
    "    "
   ]
  }
 ],
 "metadata": {
  "kernelspec": {
   "display_name": "Python 3 (ipykernel)",
   "language": "python",
   "name": "python3"
  },
  "language_info": {
   "codemirror_mode": {
    "name": "ipython",
    "version": 3
   },
   "file_extension": ".py",
   "mimetype": "text/x-python",
   "name": "python",
   "nbconvert_exporter": "python",
   "pygments_lexer": "ipython3",
   "version": "3.11.7"
  }
 },
 "nbformat": 4,
 "nbformat_minor": 5
}
