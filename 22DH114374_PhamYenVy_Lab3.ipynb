{
 "cells": [
  {
   "cell_type": "code",
   "execution_count": 2,
   "id": "d9f57065-cf53-4f2f-b9a4-dc1d2a373ad1",
   "metadata": {},
   "outputs": [
    {
     "name": "stdout",
     "output_type": "stream",
     "text": [
      "(1,2)\n",
      "(3,4)\n",
      "2.8284271247461903\n"
     ]
    }
   ],
   "source": [
    "#1\n",
    "import math\n",
    "class MyPoint2D:\n",
    "    def __init__(self, x, y):\n",
    "        self.x = x\n",
    "        self.y = y\n",
    "    def display(self):\n",
    "        print(\"(\" + str(self.x) + \",\" + str(self.y) + \")\")\n",
    "    def distance(self, p):\n",
    "        return math.sqrt(pow(self.x - p.x, 2) + pow(self.y - p.y, 2))\n",
    "\n",
    "a = MyPoint2D(1, 2)\n",
    "b = MyPoint2D(3, 4)\n",
    "a.display()\n",
    "b.display()\n",
    "print(a.distance(b))"
   ]
  },
  {
   "cell_type": "code",
   "execution_count": 31,
   "id": "a3eba725-b667-4e35-828c-69a7f87aba61",
   "metadata": {},
   "outputs": [
    {
     "name": "stdout",
     "output_type": "stream",
     "text": [
      "4:2:3\n"
     ]
    }
   ],
   "source": [
    "#2\n",
    "class MyTime:\n",
    "    def __init__(self, h, m, s):\n",
    "        self.h = h\n",
    "        self.m = m\n",
    "        self.s = s\n",
    "        \n",
    "    def display(self):\n",
    "        print(str(self.h) + \":\" + str(self.m) + \":\" + str(self.s))\n",
    "\n",
    "    def add_seconds(self, s):\n",
    "        self.s += s\n",
    "        while self.s >= 60:\n",
    "            self.s -= 60\n",
    "            self.add_minutes(1)\n",
    "        \n",
    "    def add_minutes(self, m):\n",
    "        self.m += m\n",
    "        while self.m >= 60:\n",
    "            self.m -= 60\n",
    "            self.add_hours(1)\n",
    "\n",
    "    def add_hours(self, h):\n",
    "        self.h += h\n",
    "        while self.h >= 24:\n",
    "            self.h -= 24\n",
    "    \n",
    "a = MyTime(22, 59, 59)\n",
    "a.add_seconds(4)\n",
    "a.add_minutes(2)\n",
    "a.add_hours(5)\n",
    "a.display()"
   ]
  },
  {
   "cell_type": "code",
   "execution_count": 40,
   "id": "c0047e25-cf94-45ef-8147-05ff347dae2e",
   "metadata": {},
   "outputs": [
    {
     "name": "stdout",
     "output_type": "stream",
     "text": [
      "1-2-2005\n"
     ]
    }
   ],
   "source": [
    "#3\n",
    "class MyDate:\n",
    "    def __init__(self, d, m, y):\n",
    "        self.d = d\n",
    "        self.m = m\n",
    "        self.y = y\n",
    "        \n",
    "    def display(self):\n",
    "        print(str(self.d) + \"-\" + str(self.m) + \"-\" + str(self.y))\n",
    "\n",
    "    def add_days(self, d):\n",
    "        self.d += d\n",
    "        if self.m == 1 or self.m == 3 or self.m == 5 or self.m == 7 or self.m == 8 or self.m == 10 or self.m == 12: \n",
    "            while self.d >= 31:\n",
    "                self.d -= 31\n",
    "                self.add_months(1)\n",
    "        elif (self.m == 2):\n",
    "            while self.d >= 28:\n",
    "                self.d -= 28\n",
    "                self.add_months(1)\n",
    "        else:\n",
    "            while self.d >= 30:\n",
    "                self.d -= 30\n",
    "                self.add_months(1)\n",
    "        \n",
    "    def add_months(self, m):\n",
    "        self.m += m\n",
    "        while self.m >= 12:\n",
    "            self.m -= 12\n",
    "            self.add_years(1)\n",
    "\n",
    "    def add_years(self, y):\n",
    "        self.y += y\n",
    "    \n",
    "a = MyDate(31, 12, 2004)\n",
    "a.add_days(1)\n",
    "a.add_months(1)\n",
    "a.add_years(0)\n",
    "a.display()"
   ]
  },
  {
   "cell_type": "code",
   "execution_count": 5,
   "id": "c716d38c-3343-4fa6-b4ed-79a49fc019f0",
   "metadata": {},
   "outputs": [],
   "source": [
    "import json\n",
    "\n",
    "class InputData:\n",
    "    def __init__(self, file_path):\n",
    "        self.file_path = file_path\n",
    "        self.elements = []\n",
    "        self.dictionary = {}\n",
    "\n",
    "    def read_elements(self):\n",
    "        with open(self.file_path, 'r') as file:\n",
    "            num_elements = int(file.readline().strip())\n",
    "            self.elements = [int(file.readline().strip()) for _ in range(num_elements)]\n",
    "\n",
    "    def convert_to_dict(self):\n",
    "        self.dictionary = {f\"element{i+1}\": value for i, value in enumerate(self.elements)}\n",
    "\n",
    "    def dict_to_json(self):\n",
    "        return json.dumps(self.dictionary, indent=4)\n",
    "\n",
    "    def save_json_to_file(self, json_str, output_file):\n",
    "        with open(output_file, 'w') as file:\n",
    "            file.write(json_str)"
   ]
  },
  {
   "cell_type": "code",
   "execution_count": null,
   "id": "ccd9e6dc-ef62-48ed-95a4-7f273e0d3b1f",
   "metadata": {},
   "outputs": [],
   "source": []
  }
 ],
 "metadata": {
  "kernelspec": {
   "display_name": "Python 3 (ipykernel)",
   "language": "python",
   "name": "python3"
  },
  "language_info": {
   "codemirror_mode": {
    "name": "ipython",
    "version": 3
   },
   "file_extension": ".py",
   "mimetype": "text/x-python",
   "name": "python",
   "nbconvert_exporter": "python",
   "pygments_lexer": "ipython3",
   "version": "3.11.7"
  }
 },
 "nbformat": 4,
 "nbformat_minor": 5
}
