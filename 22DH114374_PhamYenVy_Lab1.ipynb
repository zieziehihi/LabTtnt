{
 "cells": [
  {
   "cell_type": "code",
   "execution_count": 8,
   "id": "f9408892-e81f-4d22-bb22-cb0076c0d8ba",
   "metadata": {},
   "outputs": [
    {
     "name": "stdin",
     "output_type": "stream",
     "text": [
      "Nhập n:  5\n"
     ]
    },
    {
     "name": "stdout",
     "output_type": "stream",
     "text": [
      "15\n",
      "120\n"
     ]
    }
   ],
   "source": [
    "#1)\n",
    "n=int(input(\"Nhập n:\"))\n",
    "tong=0\n",
    "for i in range(1,n+1):\n",
    "    tong+=i\n",
    "print(tong)\n",
    "tich=1\n",
    "for i in range(1,n+1):\n",
    "    tich*=i\n",
    "print(tich)"
   ]
  },
  {
   "cell_type": "code",
   "execution_count": 12,
   "id": "c40e3f8b-1cc8-42df-a87d-31d3eefaeab2",
   "metadata": {},
   "outputs": [
    {
     "name": "stdout",
     "output_type": "stream",
     "text": [
      "-500\n"
     ]
    }
   ],
   "source": [
    "#2)\n",
    "c = 0\n",
    "d = 0\n",
    "for i in range(1,1001):\n",
    "    if i % 2 == 0:\n",
    "        c-=i\n",
    "    else:\n",
    "        d+=i\n",
    "print(c+d)"
   ]
  },
  {
   "cell_type": "code",
   "execution_count": 1,
   "id": "e1b688e6-3943-4350-8cba-81712aa7aca8",
   "metadata": {},
   "outputs": [
    {
     "name": "stdin",
     "output_type": "stream",
     "text": [
      "Nhập năm: 2016\n"
     ]
    },
    {
     "name": "stdout",
     "output_type": "stream",
     "text": [
      "Đây là năm nhuận\n"
     ]
    }
   ],
   "source": [
    "#3)\n",
    "nam=int(input(\"Nhập năm:\"))\n",
    "if nam>=1900 and nam<=3000:\n",
    "    if nam % 4 == 0 and nam % 100 != 0 or nam % 400 == 0:\n",
    "        print(\"Đây là năm nhuận\")\n",
    "    else:\n",
    "        print(\"Đây không phải năm nhuận\")\n",
    "else:\n",
    "     print(\"Mời nhập lại năm trong khoảng 1900-3000\")"
   ]
  },
  {
   "cell_type": "code",
   "execution_count": 13,
   "id": "92c09563-db03-4e5e-8081-541d4f5df16d",
   "metadata": {},
   "outputs": [
    {
     "name": "stdout",
     "output_type": "stream",
     "text": [
      "1. Chuyển đổi từ độ C sang độ F\n",
      "2. Chuyển đổi từ độ F sang độ C\n"
     ]
    },
    {
     "name": "stdin",
     "output_type": "stream",
     "text": [
      "Nhập lựa chọn của bạn [1 hoặc 2]: 2\n",
      "Nhập độ F:  78\n"
     ]
    },
    {
     "name": "stdout",
     "output_type": "stream",
     "text": [
      "78.0 độ F = 25.555555555555557 độ C\n"
     ]
    }
   ],
   "source": [
    "#4)\n",
    "print(\"1. Chuyển đổi từ độ C sang độ F\")\n",
    "print(\"2. Chuyển đổi từ độ F sang độ C\")\n",
    "lua_chon = input(\"Nhập lựa chọn của bạn [1 hoặc 2]:\")\n",
    "if lua_chon=='1':\n",
    "    do_c = float(input(\"Nhập độ C: \"))\n",
    "    do_f = (do_c * 9/5) + 32\n",
    "    print(f\"{do_c} độ C = {do_f} độ F\")\n",
    "elif lua_chon=='2':\n",
    "    do_f = float(input(\"Nhập độ F: \"))\n",
    "    do_c = (do_f - 32) * 5/9\n",
    "    print(f\"{do_f} độ F = {do_c} độ C\")\n",
    "else:\n",
    "    print(\"Lựa chọn không hợp lệ. Vui lòng chọn 1 hoặc 2.\")"
   ]
  },
  {
   "cell_type": "code",
   "execution_count": 10,
   "id": "624223db-e544-4ea4-9ec1-e44175efc2c0",
   "metadata": {},
   "outputs": [
    {
     "name": "stdin",
     "output_type": "stream",
     "text": [
      "Nhập một số nguyên dương:  2332323232\n"
     ]
    },
    {
     "name": "stdout",
     "output_type": "stream",
     "text": [
      "Số chữ số của 2332323232 là: 10\n"
     ]
    }
   ],
   "source": [
    "#5)\n",
    "def count_digits(n):\n",
    "    num_str = str(n)\n",
    "    return len(num_str)\n",
    "while True:\n",
    "    try:\n",
    "        num = int(input(\"Nhập một số nguyên dương:\"))\n",
    "        if num <= 0:\n",
    "            print(\"Vui lòng nhập số nguyên dương.\")\n",
    "        else:\n",
    "            break\n",
    "    except ValueError:\n",
    "        print(\"Vui lòng nhập một số nguyên dương.\")\n",
    "num_digits = count_digits(num)\n",
    "print(f\"Số chữ số của {num} là: {num_digits}\")"
   ]
  },
  {
   "cell_type": "code",
   "execution_count": 15,
   "id": "13ed7697-020e-49aa-8472-4505540c7ce3",
   "metadata": {},
   "outputs": [
    {
     "name": "stdin",
     "output_type": "stream",
     "text": [
      "Nhập một số nguyên dương: 987654\n"
     ]
    },
    {
     "name": "stdout",
     "output_type": "stream",
     "text": [
      "Số đảo ngược của 987654 là: 456789\n"
     ]
    }
   ],
   "source": [
    "#6)\n",
    "def reverse_number(n):\n",
    "    reversed_num = 0\n",
    "    while n > 0:\n",
    "        # Lấy chữ số cuối cùng của n và thêm vào reversed_num\n",
    "        last_digit = n % 10\n",
    "        reversed_num = reversed_num * 10 + last_digit\n",
    "        # Loại bỏ chữ số cuối cùng của n\n",
    "        n //= 10\n",
    "    return reversed_num\n",
    "    \n",
    "while True:\n",
    "    try:\n",
    "        num = int(input(\"Nhập một số nguyên dương:\"))\n",
    "        if num <= 0:\n",
    "            print(\"Vui lòng nhập số nguyên dương.\")\n",
    "        else:\n",
    "            break\n",
    "    except ValueError:\n",
    "        print(\"Vui lòng nhập một số nguyên dương.\")\n",
    "reversed_num = reverse_number(num)\n",
    "print(f\"Số đảo ngược của {num} là: {reversed_num}\")"
   ]
  },
  {
   "cell_type": "code",
   "execution_count": 20,
   "id": "2155b172-e7fe-43be-9757-5b6f320f1f8e",
   "metadata": {},
   "outputs": [
    {
     "name": "stdout",
     "output_type": "stream",
     "text": [
      "1. Chuyển đổi từ hệ 10 sang hệ 2\n",
      "2. Chuyển đổi từ hệ 2 sang hệ 10\n"
     ]
    },
    {
     "name": "stdin",
     "output_type": "stream",
     "text": [
      "Nhập lựa chọn của bạn [1 hoặc 2]: 4\n"
     ]
    },
    {
     "name": "stdout",
     "output_type": "stream",
     "text": [
      "Lựa chọn không hợp lệ. Vui lòng chọn 1 hoặc 2.\n"
     ]
    }
   ],
   "source": [
    "#7)\n",
    "def decimal_to_binary(n):\n",
    "    return bin(n)[2:]\n",
    "def binary_to_decimal(binary):\n",
    "    return int(binary, 2)\n",
    "print(\"1. Chuyển đổi từ hệ 10 sang hệ 2\")\n",
    "print(\"2. Chuyển đổi từ hệ 2 sang hệ 10\")\n",
    "lua_chon = input(\"Nhập lựa chọn của bạn [1 hoặc 2]:\")\n",
    "if lua_chon=='1':\n",
    "    d_number = int(input(\"Nhập số thập phân:\"))\n",
    "    b_number = decimal_to_binary(d_number)\n",
    "    print(f\"Số nhị phân của {d_number} là: {b_number}\")\n",
    "elif lua_chon=='2':\n",
    "    b_number = input(\"Nhập số nhị phân:\")\n",
    "    d_number = binary_to_decimal(b_number)\n",
    "    print(f\"Số thập phân của {b_number} là: {d_number}\")\n",
    "else:\n",
    "    print(\"Lựa chọn không hợp lệ. Vui lòng chọn 1 hoặc 2.\")"
   ]
  },
  {
   "cell_type": "code",
   "execution_count": 23,
   "id": "a64f877b-d77f-4cf5-ba81-cf42e341d1e1",
   "metadata": {},
   "outputs": [
    {
     "name": "stdout",
     "output_type": "stream",
     "text": [
      "Mời nhập\n"
     ]
    },
    {
     "name": "stdin",
     "output_type": "stream",
     "text": [
      "Nhập a:  1\n",
      "Nhập b:  0\n",
      "Nhập c:  -4\n"
     ]
    },
    {
     "name": "stdout",
     "output_type": "stream",
     "text": [
      "Phương trình có 2 nghiệm phân biệt: x1 = 2.0, x2 = -2.0\n"
     ]
    }
   ],
   "source": [
    "#8)\n",
    "import math\n",
    "def tinhNghiemPTBacHai(a, b, c):\n",
    "    delta = float(b*b-4*a*c)\n",
    "    if delta < 0:\n",
    "        return \"Phương trình vô nghiệm.\"\n",
    "    elif delta == 0:\n",
    "        # Nếu delta = 0, phương trình có nghiệm kép\n",
    "        x = -b / (2*a)\n",
    "        return f\"Phương trình có nghiệm kép x = {x}\"\n",
    "    else:\n",
    "        # Nếu delta > 0, phương trình có hai nghiệm phân biệt\n",
    "        x1 = (-b + math.sqrt(delta)) / (2*a)\n",
    "        x2 = (-b - math.sqrt(delta)) / (2*a)\n",
    "        return f\"Phương trình có 2 nghiệm phân biệt: x1 = {x1}, x2 = {x2}\"\n",
    "print(\"Mời nhập\")\n",
    "a = float(input(\"Nhập a: \"))\n",
    "b = float(input(\"Nhập b: \"))\n",
    "c = float(input(\"Nhập c: \"))\n",
    "print(tinhNghiemPTBacHai(a, b, c))"
   ]
  },
  {
   "cell_type": "code",
   "execution_count": 11,
   "id": "48d42f08-71df-46d6-9e3a-e063827b3d6d",
   "metadata": {},
   "outputs": [
    {
     "name": "stdin",
     "output_type": "stream",
     "text": [
      "Nhập một số nguyên dương:  65\n"
     ]
    },
    {
     "name": "stdout",
     "output_type": "stream",
     "text": [
      "Các thừa số nguyên tố của 65 là: 5, 13\n"
     ]
    }
   ],
   "source": [
    "#9)\n",
    "def ThuaSoNguyenTo(n):\n",
    "    thuaSo = []\n",
    "    while n % 2 == 0:\n",
    "        thuaSo.append(2)\n",
    "        n //= 2\n",
    "    for i in range(3, int(n**0.5) + 1, 2):\n",
    "        while n % i == 0:\n",
    "            thuaSo.append(i)\n",
    "            n //= i\n",
    "    if n > 2:\n",
    "       thuaSo.append(n)\n",
    "    return thuaSo\n",
    "    \n",
    "while True:\n",
    "    try:\n",
    "        s = int(input(\"Nhập một số nguyên dương:\"))\n",
    "        if s <= 0:\n",
    "            print(\"Vui lòng nhập số nguyên dương.\")\n",
    "        else:\n",
    "            break\n",
    "    except ValueError:\n",
    "        print(\"Vui lòng nhập một số nguyên dương.\")\n",
    "thuaSo = ThuaSoNguyenTo(s)\n",
    "if len(thuaSo) == 1:\n",
    "    print(f\"{s} là số nguyên tố.\")\n",
    "else:\n",
    "    print(f\"Các thừa số nguyên tố của {s} là:\", end=\" \")\n",
    "    print(*thuaSo, sep=\", \")"
   ]
  },
  {
   "cell_type": "code",
   "execution_count": 14,
   "id": "17941a5b-0008-4933-b394-c406f3397a92",
   "metadata": {},
   "outputs": [
    {
     "name": "stdin",
     "output_type": "stream",
     "text": [
      "Nhập ngày tháng năm (dd/mm/yyyy): 7/8/2004\n"
     ]
    },
    {
     "name": "stdout",
     "output_type": "stream",
     "text": [
      "Ngày liền trước: 06/08/2004\n",
      "Ngày liền sau: 08/08/2004\n"
     ]
    }
   ],
   "source": [
    "#10)\n",
    "from datetime import datetime, timedelta\n",
    "def previous_and_next_date(date_str):\n",
    "    date_obj = datetime.strptime(date_str, \"%d/%m/%Y\")\n",
    "    previous_date = date_obj - timedelta(days=1)\n",
    "    next_date = date_obj + timedelta(days=1)\n",
    "    return previous_date.strftime(\"%d/%m/%Y\"), next_date.strftime(\"%d/%m/%Y\")\n",
    "\n",
    "date_input = input(\"Nhập ngày tháng năm (dd/mm/yyyy):\")\n",
    "try:\n",
    "    previous, next = previous_and_next_date(date_input)\n",
    "    print(f\"Ngày liền trước: {previous}\")\n",
    "    print(f\"Ngày liền sau: {next}\")\n",
    "except ValueError:\n",
    "    print(\"Định dạng ngày không đúng. Vui lòng nhập lại theo định dạng dd/mm/yyyy.\")"
   ]
  },
  {
   "cell_type": "code",
   "execution_count": 20,
   "id": "3afd008f-95dc-44cc-8ea4-d14c4ecf035c",
   "metadata": {},
   "outputs": [
    {
     "name": "stdin",
     "output_type": "stream",
     "text": [
      "Nhập danh sách các số nguyên, cách nhau bằng dấu phẩy:  111,323,22,110\n"
     ]
    },
    {
     "name": "stdout",
     "output_type": "stream",
     "text": [
      "Tổng các số: 566\n",
      "Số lượng số chẵn: 2\n",
      "Số lượng số có 2 chữ số: 1\n"
     ]
    }
   ],
   "source": [
    "#11)\n",
    "def main():\n",
    "    # Nhập danh sách các số nguyên từ người dùng\n",
    "    numbers = input(\"Nhập danh sách các số nguyên, cách nhau bằng dấu phẩy: \").split(',')\n",
    "    numbers = [int(num.strip()) for num in numbers]  # Chuyển đổi các chuỗi thành số nguyên\n",
    "    # Tính tổng các số\n",
    "    total = sum(numbers)\n",
    "    # Đếm số lượng số chẵn và số có 2 chữ số\n",
    "    even_count = 0\n",
    "    two_digit_count = 0\n",
    "    for num in numbers:\n",
    "        if num % 2 == 0:\n",
    "            even_count += 1\n",
    "        if 10 <= abs(num) <= 99:\n",
    "            two_digit_count += 1\n",
    "    print(\"Tổng các số:\", total)\n",
    "    print(\"Số lượng số chẵn:\", even_count)\n",
    "    print(\"Số lượng số có 2 chữ số:\", two_digit_count)\n",
    "    \n",
    "if __name__ == \"__main__\":\n",
    "    main()"
   ]
  },
  {
   "cell_type": "code",
   "execution_count": 11,
   "id": "6b6e3a9c-09e6-4476-a02c-cefd5820174b",
   "metadata": {},
   "outputs": [
    {
     "name": "stdout",
     "output_type": "stream",
     "text": [
      "Danh sách sau khi sắp xếp bằng Interchange sort: [1, 9, 22, 56, 444]\n",
      "Danh sách sau khi sắp xếp bằng Bubble sort: [1, 9, 22, 56, 444]\n",
      "Danh sách sau khi sắp xếp bằng Binary sort: [1, 9, 22, 56, 444]\n"
     ]
    }
   ],
   "source": [
    "#12)\n",
    "def interchangeSort(arr):\n",
    "    n = len(arr)\n",
    "    for i in range(n - 1):\n",
    "        for j in range(i + 1, n):\n",
    "            if arr[i] > arr[j]:\n",
    "                arr[i], arr[j] = arr[j], arr[i]\n",
    "                \n",
    "def bubbleSort(arr):\n",
    "    n = len(arr)\n",
    "    for i in range(n - 1):\n",
    "        for j in range(n - i - 1):\n",
    "            if arr[j] > arr[j + 1]:\n",
    "                arr[j], arr[j + 1] = arr[j + 1], arr[j]\n",
    "\n",
    "def binarySort(arr):\n",
    "    n = len(arr)\n",
    "    for i in range(1, n):\n",
    "        key = arr[i]\n",
    "        left, right = 0, i - 1\n",
    "        while left <= right:\n",
    "            mid = (left + right) // 2\n",
    "            if arr[mid] < key:\n",
    "                left = mid + 1\n",
    "            else:\n",
    "                right = mid - 1\n",
    "        arr[left + 1:i + 1] = arr[left:i]\n",
    "        arr[left] = key\n",
    "\n",
    "list = [22,1,9,444,56]\n",
    "interchangeSort(list)\n",
    "print(\"Danh sách sau khi sắp xếp bằng Interchange sort:\", list)\n",
    "bubbleSort(list)\n",
    "print(\"Danh sách sau khi sắp xếp bằng Bubble sort:\", list)\n",
    "binarySort(list)\n",
    "print(\"Danh sách sau khi sắp xếp bằng Binary sort:\", list)"
   ]
  },
  {
   "cell_type": "code",
   "execution_count": 12,
   "id": "60738d24-ca9e-441c-9e6f-a812056f5b76",
   "metadata": {},
   "outputs": [
    {
     "name": "stdout",
     "output_type": "stream",
     "text": [
      "Số 10 được tìm thấy tại vị trí 3\n",
      "Số 10 được tìm thấy tại vị trí 3\n"
     ]
    }
   ],
   "source": [
    "#13\n",
    "def linear_search(arr, target):\n",
    "    for i in range(len(arr)):\n",
    "        if arr[i] == target:\n",
    "            return i\n",
    "    return -1\n",
    "\n",
    "# Sử dụng\n",
    "arr = [2, 3, 4, 10, 40]\n",
    "target = 10\n",
    "result = linear_search(arr, target)\n",
    "if result != -1:\n",
    "    print(f\"Số {target} được tìm thấy tại vị trí {result}\")\n",
    "else:\n",
    "    print(f\"Số {target} không có trong danh sách\")\n",
    "\n",
    "def binary_search(arr, target):\n",
    "    left, right = 0, len(arr) - 1\n",
    "    while left <= right:\n",
    "        mid = (left + right) // 2\n",
    "        if arr[mid] == target:\n",
    "            return mid\n",
    "        elif arr[mid] < target:\n",
    "            left = mid + 1\n",
    "        else:\n",
    "            right = mid - 1\n",
    "    return -1\n",
    "\n",
    "# Sử dụng\n",
    "arr = [2, 3, 4, 10, 40]\n",
    "target = 10\n",
    "result = binary_search(arr, target)\n",
    "if result != -1:\n",
    "    print(f\"Số {target} được tìm thấy tại vị trí {result}\")\n",
    "else:\n",
    "    print(f\"Số {target} không có trong danh sách\")"
   ]
  },
  {
   "cell_type": "code",
   "execution_count": 13,
   "id": "302b5b37-4cd2-4a58-a415-66c27c22e991",
   "metadata": {},
   "outputs": [
    {
     "name": "stdin",
     "output_type": "stream",
     "text": [
      "Nhập một số nguyên:  77\n"
     ]
    },
    {
     "name": "stdout",
     "output_type": "stream",
     "text": [
      "Tên của cột trong Excel: BY\n"
     ]
    }
   ],
   "source": [
    "#14)\n",
    "def int_to_excel_column(n):\n",
    "    result = \"\"\n",
    "    while n > 0:\n",
    "        remainder = (n - 1) % 26  # Chuyển từ 1-indexing sang 0-indexing và tính phần dư\n",
    "        result = chr(65 + remainder) + result  # 65 là mã ASCII của ký tự 'A'\n",
    "        n = (n - 1) // 26\n",
    "    return result\n",
    "\n",
    "# Nhập số nguyên từ người dùng\n",
    "try:\n",
    "    num = int(input(\"Nhập một số nguyên: \"))\n",
    "    if num <= 0:\n",
    "        print(\"Vui lòng nhập một số nguyên dương.\")\n",
    "    else:\n",
    "        excel_column = int_to_excel_column(num)\n",
    "        print(f\"Tên của cột trong Excel: {excel_column}\")\n",
    "except ValueError:\n",
    "    print(\"Vui lòng nhập một số nguyên.\")"
   ]
  },
  {
   "cell_type": "code",
   "execution_count": 4,
   "id": "f02ab1bc-cd1a-4333-aba1-778231236bf7",
   "metadata": {},
   "outputs": [
    {
     "name": "stdin",
     "output_type": "stream",
     "text": [
      "Nhập cấp của MT: 5\n"
     ]
    },
    {
     "name": "stdout",
     "output_type": "stream",
     "text": [
      "[[1. 0. 0. 0. 0.]\n",
      " [0. 1. 0. 0. 0.]\n",
      " [0. 0. 1. 0. 0.]\n",
      " [0. 0. 0. 1. 0.]\n",
      " [0. 0. 0. 0. 1.]]\n"
     ]
    }
   ],
   "source": [
    "#15\n",
    "import numpy as np\n",
    "s = int(input(\"Nhập cấp của MT:\"))\n",
    "a = np.eye(s)\n",
    "print(a)"
   ]
  },
  {
   "cell_type": "code",
   "execution_count": null,
   "id": "f9bd6746-109c-4c0d-9adb-a12699705991",
   "metadata": {},
   "outputs": [],
   "source": []
  }
 ],
 "metadata": {
  "kernelspec": {
   "display_name": "Python 3 (ipykernel)",
   "language": "python",
   "name": "python3"
  },
  "language_info": {
   "codemirror_mode": {
    "name": "ipython",
    "version": 3
   },
   "file_extension": ".py",
   "mimetype": "text/x-python",
   "name": "python",
   "nbconvert_exporter": "python",
   "pygments_lexer": "ipython3",
   "version": "3.11.7"
  }
 },
 "nbformat": 4,
 "nbformat_minor": 5
}
