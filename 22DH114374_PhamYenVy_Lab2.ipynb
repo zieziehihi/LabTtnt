{
 "cells": [
  {
   "cell_type": "code",
   "execution_count": 7,
   "id": "e68390b5-0852-41c6-9f3b-6f09f8edb772",
   "metadata": {},
   "outputs": [
    {
     "name": "stdout",
     "output_type": "stream",
     "text": [
      "Two Of Hearts\n",
      "Three Of Hearts\n",
      "Four Of Hearts\n",
      "Five Of Hearts\n",
      "Six Of Hearts\n",
      "Seven Of Hearts\n",
      "Eight Of Hearts\n",
      "Nine Of Hearts\n",
      "Ten Of Hearts\n",
      "Jack Of Hearts\n",
      "Queen Of Hearts\n",
      "King Of Hearts\n",
      "Ace Of Hearts\n",
      "Two Of Diamonds\n",
      "Three Of Diamonds\n",
      "Four Of Diamonds\n",
      "Five Of Diamonds\n",
      "Six Of Diamonds\n",
      "Seven Of Diamonds\n",
      "Eight Of Diamonds\n",
      "Nine Of Diamonds\n",
      "Ten Of Diamonds\n",
      "Jack Of Diamonds\n",
      "Queen Of Diamonds\n",
      "King Of Diamonds\n",
      "Ace Of Diamonds\n",
      "Two Of Clubs\n",
      "Three Of Clubs\n",
      "Four Of Clubs\n",
      "Five Of Clubs\n",
      "Six Of Clubs\n",
      "Seven Of Clubs\n",
      "Eight Of Clubs\n",
      "Nine Of Clubs\n",
      "Ten Of Clubs\n",
      "Jack Of Clubs\n",
      "Queen Of Clubs\n",
      "King Of Clubs\n",
      "Ace Of Clubs\n",
      "Two Of Spades\n",
      "Three Of Spades\n",
      "Four Of Spades\n",
      "Five Of Spades\n",
      "Six Of Spades\n",
      "Seven Of Spades\n",
      "Eight Of Spades\n",
      "Nine Of Spades\n",
      "Ten Of Spades\n",
      "Jack Of Spades\n",
      "Queen Of Spades\n",
      "King Of Spades\n",
      "Ace Of Spades\n"
     ]
    }
   ],
   "source": [
    "#1\n",
    "suits = ['Hearts', 'Diamonds', 'Clubs', 'Spades']\n",
    "values = ['Two', 'Three', 'Four', 'Five', 'Six', 'Seven', 'Eight', 'Nine', 'Ten', 'Jack',\n",
    "'Queen', 'King', 'Ace']\n",
    "for i in suits:\n",
    "    for j in values:\n",
    "        print(j, ' Of ', i)"
   ]
  },
  {
   "cell_type": "code",
   "execution_count": 12,
   "id": "88e52079-f5cf-4815-a332-b95b8bea3cfb",
   "metadata": {},
   "outputs": [
    {
     "name": "stdout",
     "output_type": "stream",
     "text": [
      "Số phần tử của list là: 40\n",
      "Tần số xuất hiện của m là: {'M': 28, 'A': 4, 'H': 6, 'S': 2}\n"
     ]
    }
   ],
   "source": [
    "#2\n",
    "list=['M', 'M', 'M', 'A', 'H', 'M', 'S', 'M', 'H', 'M', \n",
    "'S', 'M', 'M', 'M', 'M', 'A', 'M', 'M', 'A', 'M', \n",
    "'M', 'M', 'H', 'M', 'M', 'M', 'H', 'M', 'H', 'M', \n",
    "'A', 'M', 'M', 'M', 'H', 'M', 'M', 'M', 'M', 'M']\n",
    "\n",
    "count = 0\n",
    "for i in list:\n",
    "    count+=1\n",
    "print('Số phần tử của list là:', count)\n",
    "\n",
    "m, a, h, s = 0, 0, 0, 0\n",
    "for i in list:\n",
    "    if i == 'M':\n",
    "        m+=1\n",
    "    elif i == 'A':\n",
    "        a+=1\n",
    "    elif i == 'H':\n",
    "        h+=1\n",
    "    else:\n",
    "        s+=1\n",
    "dict = {\"M\": m, \"A\": a, \"H\": h, \"S\": s}\n",
    "print('Tần số xuất hiện của m là:', dict)"
   ]
  },
  {
   "cell_type": "code",
   "execution_count": 8,
   "id": "d6e212bb-1690-4fbd-bb47-dd3c46f222cf",
   "metadata": {},
   "outputs": [
    {
     "name": "stdin",
     "output_type": "stream",
     "text": [
      "Nhập chiều dài của HCN: 6\n",
      "Nhập chiều rộng của HCN: 5\n"
     ]
    },
    {
     "name": "stdout",
     "output_type": "stream",
     "text": [
      "* * * * * \n",
      "* * * * * \n",
      "* * * * * \n",
      "* * * * * \n",
      "* * * * * \n",
      "* * * * * \n"
     ]
    }
   ],
   "source": [
    "#3\n",
    "def inHCN(a, b):\n",
    "    for i in range(a):\n",
    "        print('* '*b)\n",
    "\n",
    "a = int(input(\"Nhập chiều dài của HCN:\"))\n",
    "b = int(input(\"Nhập chiều rộng của HCN:\"))\n",
    "inHCN(a, b)"
   ]
  },
  {
   "cell_type": "code",
   "execution_count": 19,
   "id": "8f2da4b4-de20-4840-9482-3d0cb784ba61",
   "metadata": {},
   "outputs": [
    {
     "name": "stdin",
     "output_type": "stream",
     "text": [
      "Nhập chiều cao của TGV: 5\n"
     ]
    },
    {
     "name": "stdout",
     "output_type": "stream",
     "text": [
      "*\n",
      "**\n",
      "* *\n",
      "*  *\n",
      "*****\n"
     ]
    }
   ],
   "source": [
    "#4\n",
    "def inTGV(h):\n",
    "    for i in range(1, h+1):\n",
    "        if i == 1 or i == h:\n",
    "            print('*' * i)\n",
    "        else:\n",
    "            print('*' + ' ' * (i - 2) + '*')\n",
    "        \n",
    "h = int(input(\"Nhập chiều cao của TGV:\"))\n",
    "inTGV(h)"
   ]
  },
  {
   "cell_type": "code",
   "execution_count": 2,
   "id": "26d303ce-42b2-4873-979d-34800b5617e4",
   "metadata": {},
   "outputs": [
    {
     "name": "stdout",
     "output_type": "stream",
     "text": [
      "Dãy Fibonacci: [0, 1, 1, 2, 3, 5, 8, 13, 21, 34]\n"
     ]
    }
   ],
   "source": [
    "#5 \n",
    "def fibonacci(n): \n",
    "    if n <= 0: \n",
    "        return []\n",
    "    elif n == 1: \n",
    "        return [0] \n",
    "    elif n == 2: \n",
    "        return [0, 1] \n",
    "    s = [0, 1] \n",
    "    for i in range(2, n): \n",
    "        next_v = s[-1] + s[-2] \n",
    "        s.append(next_v)\n",
    "    return s\n",
    "\n",
    "fibonacci_list = fibonacci(10) \n",
    "print('Dãy Fibonacci:', fibonacci_list)"
   ]
  },
  {
   "cell_type": "code",
   "execution_count": 1,
   "id": "816e4ab7-fcc7-428d-846d-8bf99950a1d5",
   "metadata": {},
   "outputs": [
    {
     "name": "stdin",
     "output_type": "stream",
     "text": [
      "Nhập một số nguyên dương chia hết cho 5 và > 20: 30\n"
     ]
    },
    {
     "name": "stdout",
     "output_type": "stream",
     "text": [
      "Mảng a 1 chiều:\n",
      "[76 36 95 99 43 72 80 76  7 16 58 87 93 85 16 62 42  5 69 21 71  9 20 19\n",
      " 25 21 24  4 16 34]\n",
      "Mảng a 2 chiều 5 cột:\n",
      "[[76 36 95 99 43]\n",
      " [72 80 76  7 16]\n",
      " [58 87 93 85 16]\n",
      " [62 42  5 69 21]\n",
      " [71  9 20 19 25]\n",
      " [21 24  4 16 34]]\n",
      "Shape: (6, 5)\n",
      "Number of dimensions: 2\n",
      "Data type: int32\n",
      "Item size: 4\n",
      "Total size: 30\n"
     ]
    },
    {
     "name": "stdin",
     "output_type": "stream",
     "text": [
      "Nhập giá trị x:  16\n"
     ]
    },
    {
     "name": "stdout",
     "output_type": "stream",
     "text": [
      "Tần số xuất hiện của 16 là: 3\n",
      "Mảng b:\n",
      "[[65 78 44 86 96]\n",
      " [68 44 81  3 39]\n",
      " [73 28 21 68 18]\n",
      " [ 6 98 57 51 38]\n",
      " [92 66  1  8 96]\n",
      " [48  6 44 65 62]]\n",
      "Tổng hai mảng a và b:\n",
      "[[141 114 139 185 139]\n",
      " [140 124 157  10  55]\n",
      " [131 115 114 153  34]\n",
      " [ 68 140  62 120  59]\n",
      " [163  75  21  27 121]\n",
      " [ 69  30  48  81  96]]\n",
      "Tích hai mảng a và b:\n",
      "[[4940 2808 4180 8514 4128]\n",
      " [4896 3520 6156   21  624]\n",
      " [4234 2436 1953 5780  288]\n",
      " [ 372 4116  285 3519  798]\n",
      " [6532  594   20  152 2400]\n",
      " [1008  144  176 1040 2108]]\n"
     ]
    }
   ],
   "source": [
    "import numpy as np\n",
    "\n",
    "def taoMangRandom(n): \n",
    "    random_array = np.random.randint(1, 100, size=n) \n",
    "    return random_array\n",
    "\n",
    "def xuatMang(a): \n",
    "    print(a)\n",
    "\n",
    "def chuyenSangMang2D5C(a): \n",
    "    return a.reshape(-1, 5)\n",
    "\n",
    "def demTanSoCuaX2D(x, a): \n",
    "    return np.sum(a == x)\n",
    "\n",
    "def thongTinMang(a): \n",
    "    print(\"Shape:\", a.shape) \n",
    "    print(\"Number of dimensions:\", a.ndim) \n",
    "    print(\"Data type:\", a.dtype) \n",
    "    print(\"Item size:\", a.itemsize) \n",
    "    print(\"Total size:\", a.size)\n",
    "    \n",
    "def tong2Mang(a, b): \n",
    "    return np.add(a, b)\n",
    "\n",
    "def tich2Mang(a, b): \n",
    "    return np.multiply(a, b)\n",
    "\n",
    "while True: \n",
    "    try: \n",
    "        n = int(input(\"Nhập một số nguyên dương chia hết cho 5 và > 20:\")) \n",
    "        if n <= 0: \n",
    "            print(\"Vui lòng nhập số nguyên dương.\")\n",
    "        elif n < 21: \n",
    "            print(\"Vui lòng nhập số > 20.\")\n",
    "        elif n % 5 != 0: \n",
    "            print(\"Vui lòng nhập số chia hết cho 5.\")\n",
    "        else: \n",
    "            break \n",
    "    except ValueError: print(\"Vui lòng nhập một số nguyên dương.\")\n",
    "        \n",
    "#tạo mảng 1 chiều n phần tử \n",
    "a = taoMangRandom(n)\n",
    "print(\"Mảng a 1 chiều:\")\n",
    "xuatMang(a)\n",
    "\n",
    "#chuyển sang mảng 2 chiều 5 cột \n",
    "a = chuyenSangMang2D5C(a)\n",
    "print(\"Mảng a 2 chiều 5 cột:\")\n",
    "xuatMang(a)\n",
    "\n",
    "#xuất thông tin mảng \n",
    "thongTinMang(a)\n",
    "\n",
    "#tần số xh của x \n",
    "x = int(input(\"Nhập giá trị x: \")) \n",
    "print('Tần số xuất hiện của', x, 'là:', demTanSoCuaX2D(x, a))\n",
    "\n",
    "b = taoMangRandom(n) \n",
    "b = chuyenSangMang2D5C(b) \n",
    "print(\"Mảng b:\")\n",
    "xuatMang(b)\n",
    "\n",
    "#tổng 2 mảng \n",
    "tong2m = tong2Mang(a, b)\n",
    "print(\"Tổng hai mảng a và b:\")\n",
    "xuatMang(tong2m)\n",
    "\n",
    "#tích 2 mảng \n",
    "tich2m = tich2Mang(a, b)\n",
    "print(\"Tích hai mảng a và b:\")\n",
    "xuatMang(tich2m)"
   ]
  },
  {
   "cell_type": "code",
   "execution_count": null,
   "id": "3c2f7d7a-60a2-4bdc-8687-ab8f0dbd7c5c",
   "metadata": {},
   "outputs": [],
   "source": []
  }
 ],
 "metadata": {
  "kernelspec": {
   "display_name": "Python 3 (ipykernel)",
   "language": "python",
   "name": "python3"
  },
  "language_info": {
   "codemirror_mode": {
    "name": "ipython",
    "version": 3
   },
   "file_extension": ".py",
   "mimetype": "text/x-python",
   "name": "python",
   "nbconvert_exporter": "python",
   "pygments_lexer": "ipython3",
   "version": "3.11.7"
  }
 },
 "nbformat": 4,
 "nbformat_minor": 5
}
